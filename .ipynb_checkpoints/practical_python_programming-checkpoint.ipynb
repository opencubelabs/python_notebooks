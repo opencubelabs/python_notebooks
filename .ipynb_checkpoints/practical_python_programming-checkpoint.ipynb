{
 "cells": [
  {
   "cell_type": "markdown",
   "metadata": {},
   "source": [
    "<center><h1>Practical Python Programming</h1></center>\n",
    "<br>\n",
    "<center><h4>By</h4></center>\n",
    "<br>\n",
    "<center><h3>Suraj Jana, Opencube Labs</h3></center>\n",
    "<br>\n",
    "\n",
    "<h3>Topics Covered</h3>\n",
    "\n",
    "<ul>\n",
    "    <li>Story of Python</li>\n",
    "    <li>Installing Python</li>\n",
    "    <li>Introduction to Jupyter Notebooks & Google Colab</li>\n",
    "    <li>Python Basics</li>\n",
    "    <li>List, Dictionary & Tuple</li>\n",
    "    <li>Strings</li>\n",
    "    <li>Nesting & Loops</li>\n",
    "    <li>Functions</li>\n",
    "    <li>Modules</li>\n",
    "    <li>File Handling</li>\n",
    "    <li>Regular Expression</li>\n",
    "    <li>HTTP Requests</li>\n",
    "    <li>Object Oriented Programming</li>\n",
    "    <li>MongoDB with Python</li>\n",
    "    <li>Introduction to Bottle - A Micro Web Framework</li>\n",
    "</ul>\n",
    "\n",
    "<br>\n",
    "\n",
    "<b>Introduction</b>\n",
    "<p>Python is an interpreted high-level programming language for general-purpose programming. Created by Guido van Rossum and first released in 1991, Python has a design philosophy that emphasizes code readability, notably using significant whitespace. It provides constructs that enable clear programming on both small and large scales. In July 2018, the creator Guido Rossum stepped down as the leader in the language community after 30 years.</p>\n",
    "\n",
    "<br>\n",
    "\n",
    "![Flying Circus](https://m.media-amazon.com/images/M/MV5BOTFmYTc3ZWEtNTYxNi00OTA4LTk2NjEtNTI2MTJlNzkyMDdlXkEyXkFqcGdeQWpybA@@._V1_UX477_CR0,0,477,268_AL_.jpg)\n",
    "\n",
    "<br><br>\n",
    "\n",
    "<b>Origin</b>\n",
    "<p>According To Van Rossum, he was looking for a \"hobby\" programming project that would keep him occupied during the week around Christmas. His office ... would be closed, Hence he decided to write an interpreter for the new scripting language he had been thinking about lately: a descendant of ABC that would appeal to Unix. He chose Python as a working title for the project, being a big  Monty Python’s flying circus (A Sketch Comedy Group Series) Fan.</p>\n",
    "\n",
    "<br>\n",
    "<b>Why was Python Created?</b>\n",
    "\n",
    "<p>\"My original motivation for creating Python was the perceived need for a higher level language in the Amoeba [Operating Systems] project. I realized that the development of system administration utilities in C was taking too long. Moreover, doing these things in the Bourne shell wouldn't work for a variety of reasons. ... So, there was a need for a language that would bridge the gap between C and the shell” - Guido Van Rossum</p>\n",
    "\n",
    "<br>\n",
    "<b>Features</b>\n",
    "<ul>\n",
    "    <li><b>Python is object-oriented</b> - Structure supports such concepts as polymorphism, operation overloading, and multiple inheritance.</li>\n",
    "    <li><b>It's free (open source)</b> - Downloading and installing Python is free and easy Source\n",
    "code is easily accessible.</li>\n",
    "    <li><b>It's powerful</b> - Dynamic typing, Built-in types and tools, Library utilities, Third party\n",
    "utilities (e.g. Numeric, NumPy, SciPy), Automatic memory management.</li>\n",
    "    <li><b>It's portable</b> - Python runs virtually every major platform used today, As long as you\n",
    "have a compatible Python interpreter installed, Python programs will run in exactly the\n",
    "same manner, irrespective of platform.</li>\n",
    "    <li><b>Readability</b> - Python's syntax is clear and readable. The way Python's syntax is\n",
    "organized imposes some order to programmers. Experts and beginners can easily\n",
    "understand the code and everyone can become productive in Python very quickly.</li>\n",
    "    <li><b>It Is Simple to Get Support</b> - The Python community always provides support to\n",
    "Python users. As we already know, Python code is freely available for everyone.\n",
    "Therefore, thousands of developers worldwide are working hard to find bugs and create\n",
    "patches to fix those bugs.</li>\n",
    "    <li><b>Reusability</b> - Python encourages program reusability by implementing modules and\n",
    "packages. A large set of modules has already been developed and is provided as The\n",
    "Standard Python Library, which is part of the Python distribution. You can easily share\n",
    "functionality between your programs by breaking the programs into modules, and\n",
    "reusing the modules as components of other programs.</li>\n",
    "</ul>\n",
    "\n",
    "\n",
    "<br>\n",
    "<b>Difference of Python from other languages:</b>\n",
    "<ul>\n",
    "    <li>Python code does not declare the types of variables - just assign to them and go.</li>\n",
    "    <li>Python raises a runtime error if the code tries to read from a variable that has\n",
    "not been given a value.</li>\n",
    "    <li>Like C++ and Java, Python is case sensitive so \"a\" and \"A\" are different variables.</li>\n",
    "    <li>The end of a line marks the end of a statement, so unlike C++ and Java, Python does not require a semicolon at the end of each statement.</li>\n",
    "    <li>You can include semicolons at the end of Python statements (perhaps just out of habit), but it's not the best style.</li>\n",
    "    <li>Comments begin with a '#' and extend to the end of the line.</li>\n",
    "</ul>\n",
    "\n",
    "<br>\n",
    "<b>Download & Install Python From Here: https://www.python.org/downloads/</b>\n",
    "\n",
    "> pip install jupyter\n",
    "<br>\n",
    "> cd directory_path\n",
    "<br>\n",
    "> jupyter notebook"
   ]
  },
  {
   "cell_type": "code",
   "execution_count": 1,
   "metadata": {},
   "outputs": [
    {
     "name": "stdout",
     "output_type": "stream",
     "text": [
      "Hello world!!\n"
     ]
    }
   ],
   "source": [
    "# Hello world program\n",
    "# [ ] Review the code, run the code\n",
    "print(\"Hello world!!\")"
   ]
  },
  {
   "cell_type": "markdown",
   "metadata": {},
   "source": [
    "<b>Task</b>\n",
    "<p>Add cells above & below along with printing custom text</p>"
   ]
  },
  {
   "cell_type": "code",
   "execution_count": 2,
   "metadata": {},
   "outputs": [
    {
     "name": "stdout",
     "output_type": "stream",
     "text": [
      "Data: Hello\n",
      "Hello\n"
     ]
    }
   ],
   "source": [
    "a = input('Data: ')\n",
    "print(a)"
   ]
  }
 ],
 "metadata": {
  "kernelspec": {
   "display_name": "Python 3",
   "language": "python",
   "name": "python3"
  },
  "language_info": {
   "codemirror_mode": {
    "name": "ipython",
    "version": 3
   },
   "file_extension": ".py",
   "mimetype": "text/x-python",
   "name": "python",
   "nbconvert_exporter": "python",
   "pygments_lexer": "ipython3",
   "version": "3.6.8"
  }
 },
 "nbformat": 4,
 "nbformat_minor": 2
}
