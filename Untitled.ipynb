{
 "cells": [
  {
   "cell_type": "code",
   "execution_count": 3,
   "metadata": {},
   "outputs": [
    {
     "data": {
      "text/plain": [
       "10"
      ]
     },
     "execution_count": 3,
     "metadata": {},
     "output_type": "execute_result"
    }
   ],
   "source": [
    "a = 10\n",
    "a"
   ]
  },
  {
   "cell_type": "code",
   "execution_count": 4,
   "metadata": {},
   "outputs": [
    {
     "data": {
      "text/plain": [
       "11"
      ]
     },
     "execution_count": 4,
     "metadata": {},
     "output_type": "execute_result"
    }
   ],
   "source": [
    "a = 11\n",
    "a"
   ]
  },
  {
   "cell_type": "code",
   "execution_count": 7,
   "metadata": {},
   "outputs": [
    {
     "name": "stdout",
     "output_type": "stream",
     "text": [
      "[{\"dob\": \"13071999\", \"gender\": \"M\", \"_id\": {\"$oid\": \"5cd679044911f8250f611af4\"}, \"name\": \"Tom\", \"place_of_birth\": \"Delhi\"}, {\"city_of_birth\": \"Bengaluru\", \"interests\": [\"Music\", \"Painting\"], \"name\": \"Mary\", \"dob\": \"15052000\", \"gender\": \"F\", \"_id\": {\"$oid\": \"5cd679814911f8250f611af5\"}}, {\"dob\": \"10021998\", \"gender\": \"M\", \"_id\": {\"$oid\": \"5cd67cb44dd49f75b62d78b8\"}, \"name\": \"Bob\"}]\n"
     ]
    }
   ],
   "source": [
    "from pymongo import MongoClient\n",
    "from bson.json_util import dumps\n",
    "from bson.objectid import ObjectId\n",
    "import json\n",
    "\n",
    "client = MongoClient()\n",
    "\n",
    "# mongodb://<username>:<pwd>@<host_ip>/<db_name>\n",
    "\n",
    "db = client.test\n",
    "\n",
    "cur = db.stu_test.find()\n",
    "data = dumps(cur)\n",
    "\n",
    "print data\n",
    "\n",
    "data = json.loads(data)"
   ]
  },
  {
   "cell_type": "code",
   "execution_count": 5,
   "metadata": {},
   "outputs": [
    {
     "name": "stdout",
     "output_type": "stream",
     "text": [
      "5cd67cb44dd49f75b62d78b8\n"
     ]
    },
    {
     "name": "stderr",
     "output_type": "stream",
     "text": [
      "/usr/local/lib/python2.7/dist-packages/ipykernel_launcher.py:1: DeprecationWarning: insert is deprecated. Use insert_one or insert_many instead.\n",
      "  \"\"\"Entry point for launching an IPython kernel.\n"
     ]
    }
   ],
   "source": [
    "cur = db.stu_test.insert({'name': 'Bob', 'gender': 'M', 'dob': '10021998'})\n",
    "\n",
    "print cur"
   ]
  },
  {
   "cell_type": "code",
   "execution_count": null,
   "metadata": {},
   "outputs": [],
   "source": []
  }
 ],
 "metadata": {
  "kernelspec": {
   "display_name": "Python 3",
   "language": "python",
   "name": "python3"
  },
  "language_info": {
   "codemirror_mode": {
    "name": "ipython",
    "version": 3
   },
   "file_extension": ".py",
   "mimetype": "text/x-python",
   "name": "python",
   "nbconvert_exporter": "python",
   "pygments_lexer": "ipython3",
   "version": "3.6.8"
  }
 },
 "nbformat": 4,
 "nbformat_minor": 2
}
